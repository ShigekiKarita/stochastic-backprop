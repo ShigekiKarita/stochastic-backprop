{
 "cells": [
  {
   "cell_type": "markdown",
   "metadata": {},
   "source": [
    "# Intro \n",
    "\n",
    "This repository aims to summarize a basic way to backprop through stochastic computation graph. In other words, how to backprop through sampled i.e., non-deterministic variables. There are two basic techniques\n",
    "\n",
    "- score function a.k.a. REINFORCE algorithm\n",
    "- pathwise derivative a.k.a. reparameterization trick\n",
    "\n",
    "see also\n",
    "- overview https://pytorch.org/docs/stable/distributions.html\n",
    "- detail https://arxiv.org/pdf/1506.05254.pdf.\n",
    "\n",
    "\n",
    "This notebook gives some score function estimator examples with chainer.\n",
    "\n",
    "# 1. Score function method\n",
    "\n",
    "Given a continuous parameterized probability function $p(\\cdot ; \\theta)$ (e.g., neural network), i.i.d. sampled actions $x \\sim p(x; \\theta)$ and score function $f(x)$. An expected score of the action is\n",
    "\\begin{align}\n",
    "E_x[f(x)] &= \\sum_x p(x; \\theta) f(x)\n",
    "\\end{align}\n",
    "And its gradient with respect to $\\theta$ for learning better action probability (i.e., policy)\n",
    "\\begin{align}\n",
    "\\frac{\\partial}{\\partial x} E[f(x)] &= \\frac{\\partial}{\\partial \\theta} \\sum_x p(x; \\theta) f(x) \\\\\n",
    "&= \\sum_x p(x; \\theta) \\frac{\\partial}{\\partial \\theta} \\log p(x; \\theta) f(x) \\\\\n",
    "&= E\\left[\\frac{\\partial}{\\partial \\theta} \\log p(x; \\theta) f(x) \\right]\n",
    "\\end{align}\n",
    "\n",
    "We use gradient of log function here to derive this equation. Note that the score function $f$ need not be differentiable w.r.t. $\\theta$ because the gradient is the expected form now. We can approximate the gradients by Monte-Calro sampling.\n",
    "\n",
    "### warning\n",
    "\n",
    "While the score function is a criteria to be maximized, chainer needs a loss function to be minimized in `loss.backward`. We need to set `loss = - log_prob * score` before backprop.\n",
    "\n",
    "Let's define new `StochasticChain` interface for stochastic computation graph for MC estimation. Here we only need `sample` and `log_prob` method in the equations above."
   ]
  },
  {
   "cell_type": "code",
   "execution_count": 1,
   "metadata": {},
   "outputs": [],
   "source": [
    "%matplotlib inline\n",
    "from matplotlib import pyplot\n",
    "pyplot.style.use(\"ggplot\")\n",
    "\n",
    "import chainer\n",
    "import numpy\n",
    "import chainer\n",
    "import chainer.functions as F\n",
    "import gym"
   ]
  },
  {
   "cell_type": "code",
   "execution_count": 2,
   "metadata": {},
   "outputs": [],
   "source": [
    "class StochasticChain(chainer.Chain):\n",
    "    \"\"\"Stochastic chain interface in stochastic computation graph\"\"\"\n",
    "\n",
    "    def sample(self, n: int) -> chainer.Variable:\n",
    "        \"\"\"returns n-sample chainer.Variable\"\"\"\n",
    "        pass\n",
    "    \n",
    "    def log_prob(self, samples: chainer.Variable) -> chainer.Variable:\n",
    "        \"\"\"returns log probability of sampled chainer.Variable by self pdf/pmf\"\"\"\n",
    "        pass"
   ]
  },
  {
   "cell_type": "markdown",
   "metadata": {},
   "source": [
    "## 1.1 Stochastic chain implementation of basic distribution\n",
    "\n",
    "Here, we define very basic distribution for discrete and real values"
   ]
  },
  {
   "cell_type": "code",
   "execution_count": 3,
   "metadata": {},
   "outputs": [
    {
     "name": "stdout",
     "output_type": "stream",
     "text": [
      "[0.2 0.3 0.5]\n"
     ]
    },
    {
     "data": {
      "text/plain": [
       "(array([0.202, 0.291, 0.507]),\n",
       " array([0, 1, 2, 3]),\n",
       " <a list of 3 Patch objects>)"
      ]
     },
     "execution_count": 3,
     "metadata": {},
     "output_type": "execute_result"
    },
    {
     "data": {
      "image/png": "[encoded data removed]",
      "text/plain": [
       "<Figure size 432x288 with 1 Axes>"
      ]
     },
     "metadata": {},
     "output_type": "display_data"
    }
   ],
   "source": [
    "class Categorical(StochasticChain):\n",
    "    def __init__(self, probs):\n",
    "        super().__init__()\n",
    "        self.n_class = len(probs)\n",
    "        with self.init_scope():\n",
    "            if isinstance(probs, chainer.Variable):\n",
    "                self.probs = probs\n",
    "            else:\n",
    "                self.probs = chainer.Parameter(probs)\n",
    "    \n",
    "    def sample(self, n: int) -> chainer.Variable:\n",
    "        s = self.xp.random.choice(self.n_class, size=n, p=self.probs.data).astype(numpy.int32)\n",
    "        return chainer.Variable(s)\n",
    "\n",
    "    def log_prob(self, samples: chainer.Variable) -> chainer.Variable:\n",
    "        return self.probs.data[samples]\n",
    "    \n",
    "cat = Categorical(numpy.array([0.2, 0.3, 0.5], dtype=numpy.float32))\n",
    "xs = cat.sample(1000)\n",
    "print(cat.log_prob([0, 1, 2]))\n",
    "pyplot.hist(xs.data, range(4), density=True)"
   ]
  },
  {
   "cell_type": "code",
   "execution_count": 4,
   "metadata": {},
   "outputs": [
    {
     "data": {
      "text/plain": [
       "[<matplotlib.lines.Line2D at 0x7f88068ee2e8>]"
      ]
     },
     "execution_count": 4,
     "metadata": {},
     "output_type": "execute_result"
    },
    {
     "data": {
      "image/png": "[encoded data removed]",
      "text/plain": [
       "<Figure size 432x288 with 1 Axes>"
      ]
     },
     "metadata": {},
     "output_type": "display_data"
    }
   ],
   "source": [
    "## NOTE: you can use this instead of scratch implementation in upcoming 5.0.0\n",
    "# from chainer.distributions import MultivariateNormal\n",
    "\n",
    "def unsqueeze(x: chainer.Variable, dim: int):\n",
    "    if dim < 0:\n",
    "        dim = x.ndim + 1 + dim\n",
    "    s = x.shape[:dim] + (1,) + x.shape[dim:]\n",
    "    return x.reshape(s)\n",
    "\n",
    "LOG_2PI = numpy.log(2 * numpy.pi).astype(numpy.float32)\n",
    "\n",
    "class MultivariateNormal(StochasticChain):\n",
    "    \n",
    "    def __init__(self, mean, scale_tril):\n",
    "        assert mean.ndim == 1\n",
    "        assert scale_tril.ndim == 2\n",
    "        super().__init__()\n",
    "        with self.init_scope():\n",
    "            self.mean = chainer.Parameter(mean)\n",
    "            self.scale_tril = chainer.Parameter(scale_tril)\n",
    "\n",
    "    def sample(self, n: int) -> chainer.Variable:\n",
    "        shape = (n,) + self.mean.shape + (1,)\n",
    "        x = self.xp.random.normal(size=shape).astype(self.mean.dtype)\n",
    "        scaled = F.matmul(self.scale_tril, x)\n",
    "        return F.squeeze(scaled, -1) + self.mean\n",
    "    \n",
    "    def mahalanobis_distance(self, xs: chainer.Variable) -> chainer.Variable:\n",
    "        diff = xs - self.mean  # (batch, ndim)\n",
    "        iscale = F.inv(self.scale_tril.T)\n",
    "        m = F.matmul(unsqueeze(diff, 1), unsqueeze(iscale, 0))\n",
    "        m = F.matmul(m, F.swapaxes(m, -1, -2))\n",
    "        return F.squeeze(m, (-1, -2))  # (batch,)\n",
    "\n",
    "    def log_prob(self, xs: chainer.Variable) -> chainer.Variable:\n",
    "        assert xs.ndim == 2\n",
    "        assert xs.shape[1] == self.mean.shape[0]\n",
    "        m = self.mahalanobis_distance(xs)\n",
    "        log_det = F.log(F.det(self.scale_tril)) * 2\n",
    "        ret = -0.5 * (m + self.mean.shape[-1] * LOG_2PI) - log_det\n",
    "        return ret\n",
    "\n",
    "# 1-D (univariate) normal distribution test\n",
    "prob_fun = MultivariateNormal(numpy.array([0.0], dtype=numpy.float32),\n",
    "                              scale_tril=numpy.array([[1.0]], dtype=numpy.float32))\n",
    "xs = prob_fun.sample(10000)\n",
    "prob_fun.log_prob(xs).shape\n",
    "pyplot.hist(xs.data, bins=30, density=True)\n",
    "r = numpy.arange(-3, 3, 0.1, dtype=numpy.float32)\n",
    "pyplot.plot(r, F.exp(prob_fun.log_prob(unsqueeze(r, 1))).data)"
   ]
  },
  {
   "cell_type": "markdown",
   "metadata": {},
   "source": [
    "## 1.2 Stochastic backprop via sampled variables\n",
    "\n",
    "Let's consider practical examples using those basic distributions"
   ]
  },
  {
   "cell_type": "markdown",
   "metadata": {},
   "source": [
    "### Categorical distribution MC estimation\n",
    "\n",
    "- parameters: action probabilities $p_1, \\dots, p_K$, number of action types $K$ (fixed)\n",
    "- probability: mass function given by observation $o$ and parameterized by a neural network $p(x = k | o; p_1, \\dots, p_K) = \\mathrm{softmax}(\\mathrm{nn}(o))$\n",
    "- score: normalized discounted cartpole environment score\n",
    "\n",
    "This is known as REINFORCE algorithm https://github.com/jankrepl/CartPole-v0_REINFORCE"
   ]
  },
  {
   "cell_type": "code",
   "execution_count": 5,
   "metadata": {},
   "outputs": [
    {
     "name": "stdout",
     "output_type": "stream",
     "text": [
      "\u001b[33mWARN: gym.spaces.Box autodetected dtype as <class 'numpy.float32'>. Please provide explicit dtype.\u001b[0m\n"
     ]
    },
    {
     "data": {
      "text/plain": [
       "[<matplotlib.lines.Line2D at 0x7f88067062b0>]"
      ]
     },
     "execution_count": 5,
     "metadata": {},
     "output_type": "execute_result"
    },
    {
     "data": {
      "image/png": "[encoded data removed]",
      "text/plain": [
       "<Figure size 432x288 with 1 Axes>"
      ]
     },
     "metadata": {},
     "output_type": "display_data"
    }
   ],
   "source": [
    "import chainer.links as L\n",
    "\n",
    "class Policy(chainer.Chain):\n",
    "    def __init__(self, n_input, n_output, n_units=32):\n",
    "        super(Policy, self).__init__()\n",
    "        with self.init_scope():\n",
    "            self.affine1 = L.Linear(numpy.prod(n_input), n_units)\n",
    "            self.action_head = L.Linear(n_units, n_output)\n",
    "\n",
    "    def __call__(self, x):\n",
    "        x = F.relu(self.affine1(x))\n",
    "        return F.softmax(self.action_head(x))\n",
    "\n",
    "\n",
    "def discount(rewards):\n",
    "    R = 0\n",
    "    discounted_rewards = []\n",
    "    for r in rewards[::-1]:\n",
    "        R = r + 0.99 * R\n",
    "        discounted_rewards.insert(0, R)\n",
    "    rewards = model.xp.array(discounted_rewards, dtype=numpy.float32)\n",
    "    rewards = (rewards - rewards.mean()) / (rewards.std() + numpy.finfo(numpy.float32).eps)\n",
    "    rewards = chainer.Variable(rewards).reshape(1, -1)\n",
    "    return rewards\n",
    "\n",
    "\n",
    "env = gym.make('CartPole-v0')\n",
    "model = Policy(n_input=env.observation_space.shape,\n",
    "               n_output=env.action_space.n)\n",
    "optimizer = chainer.optimizers.Adam(alpha=0.01)\n",
    "optimizer.setup(model)\n",
    "history = []\n",
    "for episode in range(100):\n",
    "    observation = env.reset()\n",
    "    probs = []\n",
    "    rewards = []\n",
    "    sum_rewards = 0\n",
    "    done = False\n",
    "    while not done:\n",
    "        state = observation.astype(numpy.float32).reshape(1, *observation.shape)\n",
    "        ps = model(chainer.Variable(model.xp.array(state)))\n",
    "        action = Categorical(ps[0]).sample(1).data[0]\n",
    "        p = ps[:, action]\n",
    "        observation, reward, done, info = env.step(action)\n",
    "        probs.append(p)\n",
    "        rewards.append(reward)\n",
    "        sum_rewards += reward\n",
    "\n",
    "    rewards = discount(rewards)\n",
    "    log_probs = F.log(F.concat(probs, axis=0))\n",
    "    loss = -F.sum(rewards * log_probs)\n",
    "    model.cleargrads()\n",
    "    loss.backward()\n",
    "    optimizer.update()\n",
    "    history.append(sum_rewards)\n",
    "    \n",
    "# NOTE: 200 is the max reward\n",
    "pyplot.plot(history)"
   ]
  },
  {
   "cell_type": "markdown",
   "metadata": {},
   "source": [
    "## Gaussian distribution MC estimation\n",
    "\n",
    "- parameters: mean $\\mu$, variance $L$\n",
    "- probability: density function $p(x; \\mu, L) = \\frac{1}{\\sqrt{2 \\pi |L L^\\top|}} \\exp \\left\\{\\left(x - \\mu\\right) \\left(L L^\\top\\right)^{-1} \\left(x - \\mu\\right)^\\top \\right\\} $\n",
    "- score: N sample negative KL divergence between reference and hypothesis distributions $f(x) = -\\frac{1}{N} \\sum_{n=0}^{N} p(x_n; \\mu, L) \\log \\frac{p(x_n; \\mu, L)}{p(x_n; \\mu_\\mathrm{ref}, L_\\mathrm{ref})}$"
   ]
  },
  {
   "cell_type": "code",
   "execution_count": 6,
   "metadata": {},
   "outputs": [
    {
     "name": "stdout",
     "output_type": "stream",
     "text": [
      "reference mean=-1.000000, scale=2.000000\n",
      "estimated mean=-0.968082, scale=1.963374\n"
     ]
    },
    {
     "data": {
      "image/png": "[encoded data removed]",
      "text/plain": [
       "<Figure size 432x288 with 1 Axes>"
      ]
     },
     "metadata": {},
     "output_type": "display_data"
    }
   ],
   "source": [
    "# Gaussian fitting example\n",
    "hyp = MultivariateNormal(numpy.array([0.0], dtype=numpy.float32),\n",
    "                         scale_tril=numpy.array([[1.0]], dtype=numpy.float32))\n",
    "ref = MultivariateNormal(numpy.array([-1.0], dtype=numpy.float32),\n",
    "                         scale_tril=numpy.array([[2.0]], dtype=numpy.float32))\n",
    "\n",
    "optim = chainer.optimizers.SGD(lr=0.1)\n",
    "optim.setup(hyp)\n",
    "history = []\n",
    "for i in range(100):\n",
    "    with chainer.no_backprop_mode():\n",
    "        xs = hyp.sample(10000)\n",
    "        rlogp = ref.log_prob(xs)\n",
    "    logp = hyp.log_prob(xs)\n",
    "    sampled_kl = (rlogp - logp) * logp\n",
    "    expected_loss = F.mean(logp * sampled_kl)\n",
    "    hyp.cleargrads()\n",
    "    expected_loss.backward()\n",
    "    optim.update()\n",
    "    history.append(-float(expected_loss.data))\n",
    "\n",
    "pyplot.plot(history)\n",
    "pyplot.ylabel(\"sampled KL divergence\")\n",
    "pyplot.xlabel(\"number of iterations\")\n",
    "print(\"reference mean={:.6f}, scale={:.6f}\".format(ref.mean[0].data, ref.scale_tril.data[0, 0]))\n",
    "print(\"estimated mean={:.6f}, scale={:.6f}\".format(hyp.mean[0].data, hyp.scale_tril.data[0, 0]))"
   ]
  },
  {
   "cell_type": "code",
   "execution_count": null,
   "metadata": {},
   "outputs": [],
   "source": []
  }
 ],
 "metadata": {
  "kernelspec": {
   "display_name": "Python 3",
   "language": "python",
   "name": "python3"
  },
  "language_info": {
   "codemirror_mode": {
    "name": "ipython",
    "version": 3
   },
   "file_extension": ".py",
   "mimetype": "text/x-python",
   "name": "python",
   "nbconvert_exporter": "python",
   "pygments_lexer": "ipython3",
   "version": "3.6.5"
  }
 },
 "nbformat": 4,
 "nbformat_minor": 2
}
